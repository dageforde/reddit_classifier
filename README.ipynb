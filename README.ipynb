{
 "cells": [
  {
   "cell_type": "markdown",
   "metadata": {},
   "source": [
    "# Problem Statment\n",
    "\n",
    "Utilize NLP methods in order to train two classification models to predict whether a given text came from either of two subreddits."
   ]
  },
  {
   "cell_type": "markdown",
   "metadata": {},
   "source": [
    "# Executive Summary"
   ]
  },
  {
   "cell_type": "markdown",
   "metadata": {},
   "source": [
    "Reddit HQ has been thrown into chaos! All of the subreddit fields have been replaced with null values and only a highly accurate classification model can reassign a given text to the appropriate subreddit. Utilizing Reddit's API, I collected text from the titles of posts dedicated to the Joker and Batman subreddits. I subjected this text to Natural Language Processing methods and used the results to train a variety of classification models to accurately predict which reddit at given text came from. "
   ]
  },
  {
   "cell_type": "markdown",
   "metadata": {},
   "source": [
    "# Data Dictionary\n",
    "\n",
    "### Text from posts in r/ Batman\n",
    "\n",
    "-  batmantitles.csv\n",
    "\n",
    "-  batmantitles1.csv\n",
    "\n",
    "### Text from posts in r/ Joker\n",
    "\n",
    "-  jokertitles.csv\n",
    "\n",
    "-  jokertitles1.csv\n",
    "\n",
    "### Concatenated Posts from Both Subreddits\n",
    "\n",
    "-  joker_batman.csv"
   ]
  },
  {
   "cell_type": "markdown",
   "metadata": {},
   "source": [
    "# Method\n",
    "\n",
    "-  Pull text data from Reddit\n",
    "\n",
    "- Instantiate a variety of models and NLP techniques\n",
    "\n",
    "-  Perform Gridsearch operations on the results of the techniques described above in order to determine the best parameters for tuning a model\n",
    "\n",
    "-  Select the best model based on optimal accuracy score"
   ]
  },
  {
   "cell_type": "markdown",
   "metadata": {},
   "source": [
    "# Conclusion"
   ]
  },
  {
   "cell_type": "markdown",
   "metadata": {},
   "source": [
    "### Best Model"
   ]
  },
  {
   "cell_type": "markdown",
   "metadata": {},
   "source": [
    "#### Logistic Regression & TF-IDF"
   ]
  },
  {
   "cell_type": "markdown",
   "metadata": {},
   "source": [
    "**Model Performance**\n",
    "\n",
    "Correct Predictions\n",
    "- True Positive: **519**\n",
    "- True Negative: **496**\n",
    "\n",
    "Incorrect Predictions\n",
    "- False Positive: **19**\n",
    "- False Negative: **24**"
   ]
  },
  {
   "cell_type": "code",
   "execution_count": null,
   "metadata": {},
   "outputs": [],
   "source": []
  }
 ],
 "metadata": {
  "kernelspec": {
   "display_name": "Python 3",
   "language": "python",
   "name": "python3"
  },
  "language_info": {
   "codemirror_mode": {
    "name": "ipython",
    "version": 3
   },
   "file_extension": ".py",
   "mimetype": "text/x-python",
   "name": "python",
   "nbconvert_exporter": "python",
   "pygments_lexer": "ipython3",
   "version": "3.6.6"
  }
 },
 "nbformat": 4,
 "nbformat_minor": 2
}
